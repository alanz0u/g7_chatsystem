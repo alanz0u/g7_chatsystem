{
 "cells": [
  {
   "cell_type": "markdown",
   "id": "6ae5a500",
   "metadata": {},
   "source": [
    "# Group 7\n",
    "\n",
    "### Installation\n",
    "\n",
    "Requirement list is well provided, which includes all neccessary libraries to run the chat system. Considering potential imcompatibility caused by different versions of existed software, however, it is recommended to initialize a brand new virtual environment and deploy the chat system standalone.\n",
    "\n",
    "### Functional Test\n",
    "\n",
    "1. The basic chat functions including online user check, private message and public message (broadcast) were tested and passed. These functions works fine both within the same exchange server and interserver. The file transfer is not implemented as the README.md statement. Since this chatsystem use AES as message encryption algorithm, it cannot connect with other groups using RSA.\n",
    "\n",
    "2. Incorrect instruction to quit the system. The client.py accepts message starting with '/quit' as a flag to stop the connection while the instruction says (or 'quit' to quit). The instruction string and README.md should be fixxed.\n",
    "![Alt Text](snapshot/g7_quit_err_0.png)<img width=\"100\">\n",
    "\n",
    "2. After receiving the '/quit' command, the connection is closed only from server side while the client keeps running until an error occur. From the code we can found that the exit_flag is not properly handled, and the messaging functions are put in a while True loop, which might be the cause of this issue.\n",
    "![Alt Text](snapshot/g7_quit_err_1.png)<img width=\"100\">\n",
    "\n",
    "3. The message to be encrypted is not handled properly and an empty input may lead to an error in the padding module, causing unexpected server shutdown consequently.\n",
    "![Alt Text](snapshot/g7_bd_quit.png)<img width=\"100\">\n",
    "\n",
    "\n",
    "4. In the backdoor challenge mode, the server will close the connection unexpectedly after receiving any message from the client. Only in backdoor1 challenge mode the 'quit' command works.\n",
    "![Alt Text](snapshot/g7_bd_quit.png)<img width=\"100\">\n",
    "\n",
    "5. Inappropriately handle message starting with '/backdoor'. The ehco() function in server.py will accept all message starting with '/backdoor' as flags to enter backdoor challenge mode. However, the function handle_backdoor() can only handle '/backdoor[1-5]'. This means that any other message starts with '/backdoor' may activate challenge mode without enabling any backdoor challenge.\n",
    "![Alt Text](snapshot/g7_bd_hd_1.png)<img width=\"100\">\n",
    "![Alt Text](snapshot/g7_bd_hd_0.png)<img width=\"100\">\n",
    "\n",
    "\n",
    "### Backdoor and Vulnerability\n",
    "\n",
    "1. The backdoor backdoor_challenge_2() locates at Line 184 of server.py. If the length of user input exceeds 7 bytes, a message \"Oh hacker!\" will be sent to the client. However, if the length is 7 or fewer characters, it evaluates the user_input as a Python expression using eval() and prints the result at server terminal. \n",
    "![Alt Text](snapshot/g7_bd2_gt7.png)<img width=\"100\">\n",
    "![Alt Text](snapshot/g7_bd2_le7.png)<img width=\"100\">\n",
    "\n",
    "2. The backdoor_challenge_1(), backdoor_challenge_2(), backdoor_challenge_3(), backdoor_challenge_4() in server.py have similar mechanism. These backdoors allows Python code in user input to be executed remotely. The difference between these backdoors is the strategy to filter input. Take backdoor1 as example. A dictionary named 'sandbox' was assigned to save the whitelist function in allowed_builtins. If the functions occurs in user input, the Python expression will be executed and the output will display on the terminal of server. Likewise, the backdoor3 only allows print to be executed, the backdoor4 uses blacklist restricted_globals to filter input, and the backdoor5 uses both blacklist and whitelist.\n",
    "![Alt Text](snapshot/g7_bd3_cs.png)<img width=\"100\">\n",
    "![Alt Text](snapshot/g7_bd3_ss.png)<img width=\"100\">\n",
    "\n",
    "3. User authentication is missing. The chat system does not authenticate the user's identity. This means that anyone could connect to the chat server and send message if they know the server IP.\n",
    "\n",
    "4. In the backdoor functions, the system function 'exec' and 'eval' is used to execute remote code. Although the input are restricted by dictionary filters 'built-ins' and 'forbidden_patterns', this can still be very dangerous as the filter might be bypassed to execute malicious code.\n"
   ]
  }
 ],
 "metadata": {
  "kernelspec": {
   "display_name": "Python 3 (ipykernel)",
   "language": "python",
   "name": "python3"
  },
  "language_info": {
   "codemirror_mode": {
    "name": "ipython",
    "version": 3
   },
   "file_extension": ".py",
   "mimetype": "text/x-python",
   "name": "python",
   "nbconvert_exporter": "python",
   "pygments_lexer": "ipython3",
   "version": "3.11.5"
  }
 },
 "nbformat": 4,
 "nbformat_minor": 5
}
