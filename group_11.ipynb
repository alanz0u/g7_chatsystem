{
 "cells": [
  {
   "cell_type": "markdown",
   "id": "43445e90",
   "metadata": {},
   "source": [
    "# Group 11\n",
    "\n",
    "### Installation\n",
    "\n",
    "Requirement list is well provided, which includes all neccessary libraries to run the chat system. Considering potential imcompatibility caused by different versions of existed software, however, it is recommended to initialize a brand new virtual environment and deploy the chat system standalone.\n",
    "\n",
    "### Functional Test\n",
    "\n",
    "The basic chat functions including online user check, private message, public message (broadcast) and file transfer were tested and passed. These functions works fine both within the same exchange server and between different servers. The message is formatted in JSON, encrypted with RSA_2048 algorithm and transmitted with websocket protocol. Large data is sliced to meet the length limit of rsa. It can also communicate with the chat system of group 3 and 4.\n",
    "\n",
    "\n",
    "### Backdoor and Vulnerability\n",
    "\n",
    "1. This backdoor exists in the print() function (Line 45, helper.py). It overloads the built-in print function and performs specific checks and operations on the input message. If the input message is a string of more than 100 characters length and only contains after trimming the spaces and newlines, it will be split by spaces and converted to an integer, then tranfer to characters. The string \"9999\" will be replace by the server port number plus 1000, and if there are at least two arguments, the string \"u=u\" will be replaced with the second argument. Then, the crafted string is exectued as Pyton code within the global namespace using exec() function. This backdoor allows user to input Python expressions in the comment. If the message is printed out the code will be executed remotely. Besides, the integrity of message is compromised becase some specific strings may be replaced.\n",
    "![Alt Text](snapshot/g11_bd1.png)<img width=\"100\">\n",
    "\n",
    "2. In the server.py, there are three commented functions, run_backdoor(), handle_backdoor() and setup_backdoor(). These function listens to the port 9999 and handles incoming WebSocket connections, trying to retrive the public key 'pk' from the message and print it out. In Line 172 of server.py, another version of handle_backdoor() is provided, in which another condition is added that the sender name should not be 'THEEND'.\n",
    "![Alt Text](snapshot/g11_bd2.png)<img width=\"100\">\n",
    "\n",
    "3. An error occurs in the run_backdoor() function in Line 154, server.py. The serve() function of websockets cannot accept 'async' as the first positional argument, therefore raises an error when executed. If this code block is only used for test and deprecated, please remove it from the final version of chat system."
   ]
  }
 ],
 "metadata": {
  "kernelspec": {
   "display_name": "Python 3 (ipykernel)",
   "language": "python",
   "name": "python3"
  },
  "language_info": {
   "codemirror_mode": {
    "name": "ipython",
    "version": 3
   },
   "file_extension": ".py",
   "mimetype": "text/x-python",
   "name": "python",
   "nbconvert_exporter": "python",
   "pygments_lexer": "ipython3",
   "version": "3.11.5"
  }
 },
 "nbformat": 4,
 "nbformat_minor": 5
}
