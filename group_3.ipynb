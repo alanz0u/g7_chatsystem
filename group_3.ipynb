{
 "cells": [
  {
   "cell_type": "markdown",
   "id": "da5e6282",
   "metadata": {},
   "source": [
    "# Group 3\n",
    "\n",
    "### Installation\n",
    "\n",
    "1. An error 'externally-managed-environment' raised when installing requirements directly after cloning the repository from the github. Alternatively, it is recommended to create a standalone virtual environment and install all the required library inside.\n",
    "![Alt Text](snapshot/g3_requirements.png)<img width=\"100\">\n",
    "![Alt Text](snapshot/g3_venv.png)<img width=\"100\">\n",
    "\n",
    "\n",
    "### Functional Test\n",
    "\n",
    "1. The basic chat functions including online user check, private message, public message (broadcast) and file transfer were tested and passed. These functions works fine both within the same exchange server and between different servers. The message is formatted in JSON, encrypted with RSA_2048 algorithm and transmitted with websocket protocol. Large data is sliced to meet the length limit of rsa. It can also communicate with the chat system of group 4 and 11.\n",
    "\n",
    "2. In the server.py Line 9, a function get_wlan_ip() is used to automatically retrieve the WLAN IP address from system information. It is definitely a good idea to simplify the initialisation of server or cliet configuration. However, if the chat system is deployed on a platform using wired ethernet interface only (like vm environment), this function will fail and raise an error.\n",
    "![Alt Text](snapshot/g3_getwlan.png)<img width=\"100\">\n",
    "\n",
    "3. Built-in trial version of commercial software PySimpleGUI might abuse the Term of Use. It is recommended to use opensource licensed product alternatively.\n",
    "![Alt Text](snapshot/g3_gui_trial.png)<img width=\"100\">\n",
    "\n",
    "4. To send a private message, the user should click the target user in the private chat window, input the message in the prompt and click 'Send Private' button. However, due to the frequent refresh of user list on the client (a few seconds), the selection of target user loses effect quickly. This mechanism makes it extremely hard for users to send a private message, as they have to click the target user and 'Send Private' button before the user list refreshes. Consider extending the interval of user list sent to client in online_users() function (Line 402, server.py).\n",
    "![Alt Text](snapshot/g3_pmsg_err_1.png)<img width=\"100\">\n",
    "![Alt Text](snapshot/g3_pmsg_err_0.png)<img width=\"100\">\n",
    "![Alt Text](snapshot/g3_pmsg_success.png)<img width=\"100\">\n",
    "\n",
    "5. Everytime a public message is sent, the connection is closed by server. The good point is that the public message is successfully broadcast to all other clients online, though.\n",
    "![Alt Text](snapshot/g3_broadcast_ui.png)<img width=\"100\">\n",
    "![Alt Text](snapshot/g3_broadcast_err_0.png)<img width=\"100\">\n",
    "\n",
    "### Backdoor and Vulnerability\n",
    "\n",
    "1. Unsanitized User Input\n",
    "The input from client is directly encoded and sent to the target. This allows malicious user to execute SQL injectioin or CSRF attack with crafted message.\n",
    "\n",
    "### Code Practice\n",
    "\n",
    "1. In the server.py Line 24, another variable named 'config' is re-defined within the scope of function load_config(), making it inaccessible and might confuse. Consider using another name in the scope of function or just make the variable 'config' global.\n",
    "\n",
    "2. In the server.py Line 85, there is an unnecessary f-string used without any expression. It is recommended to use regular print if no expresssions to be extrapolated.\n",
    "\n",
    "3. In the client.py Line 153, bare 'except' is used to catch the decryption error raised by rsa function. It is highly recommended to use a specific exception statement."
   ]
  }
 ],
 "metadata": {
  "kernelspec": {
   "display_name": "Python 3 (ipykernel)",
   "language": "python",
   "name": "python3"
  },
  "language_info": {
   "codemirror_mode": {
    "name": "ipython",
    "version": 3
   },
   "file_extension": ".py",
   "mimetype": "text/x-python",
   "name": "python",
   "nbconvert_exporter": "python",
   "pygments_lexer": "ipython3",
   "version": "3.8.19"
  }
 },
 "nbformat": 4,
 "nbformat_minor": 5
}
